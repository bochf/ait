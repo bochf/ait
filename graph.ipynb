{
 "cells": [
  {
   "cell_type": "code",
   "execution_count": 3,
   "metadata": {},
   "outputs": [
    {
     "name": "stdout",
     "output_type": "stream",
     "text": [
      "{'A': {'B': {'label': 1}, 'C': {'label': 2}}, 'B': {'D': {'label': 3}}, 'C': {'D': {'label': 4}}, 'D': {'E': {'label': 5}, 'F': {'label': 6}}, 'E': {'G': {'label': 7}}, 'F': {'G': {'label': 8}}, 'G': {'D': {'label': 9}}}\n",
      "IGRAPH DN-- 7 9 --\n",
      "+ attr: color (v), label (v), name (v), size (v), label (e)\n",
      "+ edges (vertex names):\n",
      "A->B, A->C, B->D, C->D, D->E, D->F, E->G, F->G, G->D\n"
     ]
    }
   ],
   "source": [
    "from ait.state_engine import StateEngine\n",
    "\n",
    "fsm = FiniteStateMachine()"
   ]
  }
 ],
 "metadata": {
  "kernelspec": {
   "display_name": ".venv",
   "language": "python",
   "name": "python3"
  },
  "language_info": {
   "codemirror_mode": {
    "name": "ipython",
    "version": 3
   },
   "file_extension": ".py",
   "mimetype": "text/x-python",
   "name": "python",
   "nbconvert_exporter": "python",
   "pygments_lexer": "ipython3",
   "version": "3.10.12"
  }
 },
 "nbformat": 4,
 "nbformat_minor": 2
}
