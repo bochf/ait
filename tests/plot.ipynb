{
 "cells": [
  {
   "cell_type": "code",
   "execution_count": 9,
   "metadata": {},
   "outputs": [
    {
     "ename": "ModuleNotFoundError",
     "evalue": "No module named 'ait'",
     "output_type": "error",
     "traceback": [
      "\u001b[0;31m---------------------------------------------------------------------------\u001b[0m",
      "\u001b[0;31mModuleNotFoundError\u001b[0m                       Traceback (most recent call last)",
      "Cell \u001b[0;32mIn[9], line 2\u001b[0m\n\u001b[1;32m      1\u001b[0m \u001b[38;5;28;01mfrom\u001b[39;00m \u001b[38;5;21;01migraph\u001b[39;00m \u001b[38;5;28;01mimport\u001b[39;00m Graph, plot\n\u001b[0;32m----> 2\u001b[0m \u001b[38;5;28;01mfrom\u001b[39;00m \u001b[38;5;21;01mait\u001b[39;00m\u001b[38;5;21;01m.\u001b[39;00m\u001b[38;5;21;01mstate_machine\u001b[39;00m \u001b[38;5;28;01mimport\u001b[39;00m StateMachine\n\u001b[1;32m      4\u001b[0m \u001b[38;5;28;01mdef\u001b[39;00m \u001b[38;5;21mget_min_in_degree_vertex\u001b[39m(g: Graph)\u001b[38;5;241m-\u001b[39m\u001b[38;5;241m>\u001b[39m\u001b[38;5;28mint\u001b[39m:\n\u001b[1;32m      5\u001b[0m     degree \u001b[38;5;241m=\u001b[39m g\u001b[38;5;241m.\u001b[39mvs[\u001b[38;5;241m0\u001b[39m]\u001b[38;5;241m.\u001b[39mdegree(mode\u001b[38;5;241m=\u001b[39m\u001b[38;5;124m\"\u001b[39m\u001b[38;5;124min\u001b[39m\u001b[38;5;124m\"\u001b[39m)\n",
      "\u001b[0;31mModuleNotFoundError\u001b[0m: No module named 'ait'"
     ]
    }
   ],
   "source": [
    "from igraph import Graph, plot\n",
    "\n",
    "def get_min_in_degree_vertex(g: Graph)->int:\n",
    "    degree = g.vs[0].degree(mode=\"in\")\n",
    "    lowest = 0\n",
    "    for i in range(1, len(g.vs)):\n",
    "        tmp = g.vs[i].degree(mode=\"in\")\n",
    "        if tmp == 0:\n",
    "            return i\n",
    "        if tmp < degree:\n",
    "            degree = tmp\n",
    "            lowest = i\n",
    "    return lowest\n",
    "\n",
    "g = Graph.Erdos_Renyi(10, m=30, directed=True)\n",
    "paths = sorted(g.get_all_simple_paths(get_min_in_degree_vertex(g)), key=len, reverse=True)\n",
    "print(paths)\n",
    "g.vs[\"label\"] = [str(i) for i in range(len(g.vs))]\n",
    "plot(g, margin=100)"
   ]
  }
 ],
 "metadata": {
  "kernelspec": {
   "display_name": ".venv",
   "language": "python",
   "name": "python3"
  },
  "language_info": {
   "codemirror_mode": {
    "name": "ipython",
    "version": 3
   },
   "file_extension": ".py",
   "mimetype": "text/x-python",
   "name": "python",
   "nbconvert_exporter": "python",
   "pygments_lexer": "ipython3",
   "version": "3.12.7"
  }
 },
 "nbformat": 4,
 "nbformat_minor": 2
}
